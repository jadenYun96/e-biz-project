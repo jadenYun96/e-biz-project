{
 "cells": [
  {
   "cell_type": "markdown",
   "id": "54ef1480",
   "metadata": {},
   "source": [
    "## 뉴스 그룹 데이터를 기술/패션/스포츠/정치/사회 등의 카테고리로 분류\n",
    "-텍스트 분류는 특정 문서의 분류를 학습 데이터를 통해 학습해 모델을 생성한 뒤 이 학습 모델을 이용해 다른 문서의 분류를 예측하는 것이다.\n",
    "\n",
    "-사이킷런은 fetch_20newsgroups() API를 이용해 뉴스그룹의 분류 수행 예제 데이터를 제공한다.\n",
    "\n",
    "-텍스트를 처로 벡터화  변환하면 희소행렬 형태가 된는데 이러한 희소행렬을 잘 철ㅣ하는 알고리즘은 로지스틱 회귀, SVM, Naive-Baysian 이 있다. \n",
    "\n",
    "-먼저 텍스트 기반 분류는 정규화 후 피처 벡터화를 할것이고 그 후 적합한 머신러닝 알고리즘을 이용해 분류를 학습 /예측/ 평가 할것이다."
   ]
  },
  {
   "cell_type": "markdown",
   "id": "8e942507",
   "metadata": {},
   "source": [
    "### 텍스트 정규화"
   ]
  },
  {
   "cell_type": "markdown",
   "id": "bdfac3cd",
   "metadata": {},
   "source": [
    "fetch_20newsgroups는 사이킷런의 다른 데이터 세트 예제와 같이 딕셔너리와 유사한 bunch 객체를 반환한다."
   ]
  },
  {
   "cell_type": "code",
   "execution_count": 1,
   "id": "65aebdc9",
   "metadata": {},
   "outputs": [],
   "source": [
    "from sklearn.datasets import fetch_20newsgroups\n",
    "news_data= fetch_20newsgroups(subset='all',random_state=156)"
   ]
  },
  {
   "cell_type": "code",
   "execution_count": 2,
   "id": "cde2e5ae",
   "metadata": {},
   "outputs": [
    {
     "name": "stdout",
     "output_type": "stream",
     "text": [
      "dict_keys(['data', 'filenames', 'target_names', 'target', 'DESCR'])\n"
     ]
    }
   ],
   "source": [
    "print(news_data.keys())\n",
    "# filenames는 인터넷에서 내려받아 로컬 컴퓨터에 저장하는 디렉토리와 파일명을 지칭한다"
   ]
  },
  {
   "cell_type": "code",
   "execution_count": 3,
   "id": "2034e230",
   "metadata": {},
   "outputs": [
    {
     "name": "stdout",
     "output_type": "stream",
     "text": [
      "target 클래스의 값과 분포도 \n",
      " 0     799\n",
      "1     973\n",
      "2     985\n",
      "3     982\n",
      "4     963\n",
      "5     988\n",
      "6     975\n",
      "7     990\n",
      "8     996\n",
      "9     994\n",
      "10    999\n",
      "11    991\n",
      "12    984\n",
      "13    990\n",
      "14    987\n",
      "15    997\n",
      "16    910\n",
      "17    940\n",
      "18    775\n",
      "19    628\n",
      "dtype: int64\n",
      "target 클래스의 이름들 \n",
      " ['alt.atheism', 'comp.graphics', 'comp.os.ms-windows.misc', 'comp.sys.ibm.pc.hardware', 'comp.sys.mac.hardware', 'comp.windows.x', 'misc.forsale', 'rec.autos', 'rec.motorcycles', 'rec.sport.baseball', 'rec.sport.hockey', 'sci.crypt', 'sci.electronics', 'sci.med', 'sci.space', 'soc.religion.christian', 'talk.politics.guns', 'talk.politics.mideast', 'talk.politics.misc', 'talk.religion.misc']\n"
     ]
    }
   ],
   "source": [
    "import pandas as pd\n",
    "\n",
    "# Target 클래스의 구성\n",
    "print('target 클래스의 값과 분포도 \\n',pd.Series(news_data.target).value_counts().sort_index())\n",
    "print('target 클래스의 이름들 \\n',news_data.target_names)"
   ]
  },
  {
   "cell_type": "markdown",
   "id": "fad1bd23",
   "metadata": {},
   "source": [
    "Target클래스의 값은 0부터 19까지 20개로 구성되어 있다."
   ]
  },
  {
   "cell_type": "markdown",
   "id": "6eae47dd",
   "metadata": {},
   "source": [
    "개별 텍스트 데이터 확인"
   ]
  },
  {
   "cell_type": "code",
   "execution_count": 4,
   "id": "b66b72e6",
   "metadata": {},
   "outputs": [
    {
     "name": "stdout",
     "output_type": "stream",
     "text": [
      "From: egreen@east.sun.com (Ed Green - Pixel Cruncher)\n",
      "Subject: Re: Observation re: helmets\n",
      "Organization: Sun Microsystems, RTP, NC\n",
      "Lines: 21\n",
      "Distribution: world\n",
      "Reply-To: egreen@east.sun.com\n",
      "NNTP-Posting-Host: laser.east.sun.com\n",
      "\n",
      "In article 211353@mavenry.altcit.eskimo.com, maven@mavenry.altcit.eskimo.com (Norman Hamer) writes:\n",
      "> \n",
      "> The question for the day is re: passenger helmets, if you don't know for \n",
      ">certain who's gonna ride with you (like say you meet them at a .... church \n",
      ">meeting, yeah, that's the ticket)... What are some guidelines? Should I just \n",
      ">pick up another shoei in my size to have a backup helmet (XL), or should I \n",
      ">maybe get an inexpensive one of a smaller size to accomodate my likely \n",
      ">passenger? \n",
      "\n",
      "If your primary concern is protecting the passenger in the event of a\n",
      "crash, have him or her fitted for a helmet that is their size.  If your\n",
      "primary concern is complying with stupid helmet laws, carry a real big\n",
      "spare (you can put a big or small head in a big helmet, but not in a\n",
      "small one).\n",
      "\n",
      "---\n",
      "Ed Green, former Ninjaite |I was drinking last night with a biker,\n",
      "  Ed.Green@East.Sun.COM   |and I showed him a picture of you.  I said,\n",
      "DoD #0111  (919)460-8302  |\"Go on, get to know her, you'll like her!\"\n",
      " (The Grateful Dead) -->  |It seemed like the least I could do...\n",
      "\n",
      "\n"
     ]
    }
   ],
   "source": [
    "print(news_data.data[0])"
   ]
  },
  {
   "cell_type": "markdown",
   "id": "fec0448c",
   "metadata": {},
   "source": [
    "- 데이터를 보면 뉴스 그룹 기사의 내용+뉴스그룹 제목, 작성자,소속,이메일(Footer) 등의 다양한 정보를 가지고 있다. \n",
    "- 이 중에서 내용을 제외한 다른 정보는 제거한다(다른 푸터 정보들은 뉴스그룹 분류이 Tartget클래스 값과 유사한 데이터를 가진 경우가 많기 때문이다. \n",
    "- 또한 fetch_20newsgroups()는 subset 파라미터를 이용해 학습데이터 세트와 테스트 데이터 세트를 분리해 내려받을 수 있다."
   ]
  },
  {
   "cell_type": "code",
   "execution_count": 5,
   "id": "942d6196",
   "metadata": {},
   "outputs": [
    {
     "name": "stdout",
     "output_type": "stream",
     "text": [
      "학습 데이터 크기 11314, 테스트 데이터 크기 7532\n"
     ]
    }
   ],
   "source": [
    "from sklearn.datasets import fetch_20newsgroups\n",
    "\n",
    "#subset='train'으로 학습용 데이터만 추출, remove=('headers','footers','quotes')로 내용만 추출\n",
    "train_news= fetch_20newsgroups(subset='train',remove=('headers','footers','quotes'),\n",
    "                  random_state=156)\n",
    "X_train= train_news.data\n",
    "y_train= train_news.target\n",
    "\n",
    "#subset='test'으로 테스트 데이터만 추출, removev=('headers','footers','quotes')로 내용만 추출\n",
    "test_news= fetch_20newsgroups(subset='test',remove=('headers','footers','quotes'),\n",
    "                             random_state=156)\n",
    "\n",
    "X_test= test_news.data\n",
    "y_test= test_news.target\n",
    "print('학습 데이터 크기 {0}, 테스트 데이터 크기 {1}'.format(len(train_news.data),len(test_news.data)))"
   ]
  },
  {
   "cell_type": "markdown",
   "id": "706fbaee",
   "metadata": {},
   "source": [
    "### 피처 벡터화 변환과 머신러닝 모델학습/예측 평가\n",
    "- CountVectorizer를 이용해 학습 데이터의 텍스트를 피처 벡터화하겠다. \n",
    "-테스트 데이터 역시 피처 벡터화를 수행하는데, 한가지 유의점은 테스트 데이터에서 CountVectorizer를 적용시에는 반드시 학습데이터를 이용해 fit()이 수행된 CountVectorizer 객체를 이용해 \n",
    "테스트 데이터를 transform해야 한다는 것이다. \n",
    "- 그래야 학습 시 설정된 CountVectorizer의 피처 개수와 테스트 데이터를 CountVectorizer로 변환할 피처 개수가 같아진다. \n",
    "- 테스트 데이터의 피처 벡터화는 학습 데이터에 사용된 CountVectorizer 객체 변수인 cnt_vect.transform()을 이용해 변환한다\n",
    "- 테스트 데이터의 피처 벡터화 시 fit_transform을 사용하면 안되는데, CountVectorizer.fit)transform을 테스트 데이터 세트에 적용하면 테스트 데이터 기반으로 다시 Contvectorizer가 fit 을 수행하고 transform하기 때문에 학습 시 사용된 피처 개수와 예측 시 사용할 피처 개수가 달라진다."
   ]
  },
  {
   "cell_type": "code",
   "execution_count": 6,
   "id": "29e90451",
   "metadata": {},
   "outputs": [
    {
     "name": "stdout",
     "output_type": "stream",
     "text": [
      "학습 데이터 텍스트의 CountVectorizer Shape: (11314, 101631)\n"
     ]
    }
   ],
   "source": [
    "from sklearn.feature_extraction.text import CountVectorizer\n",
    "\n",
    "# Count Vectorization으로 피처 벡터화 변환 수행\n",
    "cnt_vect= CountVectorizer()\n",
    "cnt_vect.fit(X_train) # 데이터 변환을 위한 기준 정보 설정\n",
    "X_train_cnt_vect= cnt_vect.transform(X_train) # 데이터 변환\n",
    "\n",
    "# 학습 데이터로 fit()된 CountVectorizer를 이용해 테스트 데이터를 피처 벡터화 변환을 수행한다.\n",
    "X_test_cnt_vect= cnt_vect.transform(X_test) \n",
    "\n",
    "print('학습 데이터 텍스트의 CountVectorizer Shape:',X_train_cnt_vect.shape)"
   ]
  },
  {
   "cell_type": "markdown",
   "id": "dfec6dc4",
   "metadata": {},
   "source": [
    "- CounterVectorizer로 피처 추출한 결과 113141개의 문서에서 피처, 즉 단어가 101631개 만들어짐\n",
    "- 피처 벡터화된 데이터에 로지스틱 회귀 적용해 분류 예측해보자"
   ]
  },
  {
   "cell_type": "code",
   "execution_count": null,
   "id": "6a334535",
   "metadata": {},
   "outputs": [],
   "source": [
    "from sklearn.linear_model import LogisticRegression\n",
    "from sklearn.metrics import accuracy_score\n",
    "\n",
    "# Logistic Regression이용해 학습/예측/평가 수행\n",
    "lr_clf= LogisticRegression(max_iter=500)\n",
    "lr_clf.fit(X_train_cnt_vect,y_train)\n",
    "pred= lr_clf.predict(X_test_cnt_vect)\n",
    "print('CountVectorized Logistic Regression의 예측 정확도는 {0:3f}'.format(accuracy_score(y_test,pred)))"
   ]
  },
  {
   "cell_type": "markdown",
   "id": "de6ba694",
   "metadata": {},
   "source": [
    "- Count 기반 피처 벡터화된 데이터 세트의 로지스틱 회귀 예측 모델의 정확도는 0.604488\n",
    "- 이번에는 TF-IDF 기반으로 벡터화를 변경해 예측 모델 수행"
   ]
  },
  {
   "cell_type": "code",
   "execution_count": null,
   "id": "ced6a4b5",
   "metadata": {},
   "outputs": [],
   "source": [
    "from sklearn.feature_extraction.text import TfidfVectorizer\n",
    "\n",
    "# TF-IDF 벡터화를 적용해 학습 데이터 세트와 테스트 데이터 세트 변환\n",
    "tfidf_vect= TfidfVectorizer()\n",
    "tfidf_vect.fit(X_train)\n",
    "X_train_tfidf_vect= tfidf_vect.transform(X_train)\n",
    "X_test_tfidf_vect= tfidf_vect.transform(X_test)\n",
    "\n",
    "# LogisticRegression 을 이용해 학습/예측/평가 수행\n",
    "lr_clf= LogisticRegression()\n",
    "lr_clf.fit(X_train_tfidf_vect,y_train)\n",
    "pred=lr_clf.predict(X_test_tfidf_vect)\n",
    "print('TF-IDF Logistic Regression의 예측 정확도는 {0:.3f}'.format(accuracy_score(y_test,pred)))"
   ]
  },
  {
   "cell_type": "markdown",
   "id": "51fe8231",
   "metadata": {},
   "source": [
    "- TF-IDF 기반 피처 벡터화된 데이터 세트의 로지스틱 회귀 예측 모델의 정확도는 0.674로, Count기반보다 더 높은 정확도를 제공한다"
   ]
  },
  {
   "cell_type": "markdown",
   "id": "b4a5e21d",
   "metadata": {},
   "source": [
    "모델 성능 향상\n",
    "- 모델의 성능 향상 방법은 1. 좋은 모델 선택 2. 최상의 피처 전처리 수행\n",
    "- 1은 선택했으니 피처 전처리를 위해 위에서 TF-IDF는 기본 파라미터를 적용했지만 더 다양한 파라미터를 적용해보자\n",
    "- TfidVectorizer 클래스의 스톱워드를 english로 변경하고 nrgram_range는 (1,1)에서 (1,2)로, max_df= 300으로 변경한 뒤 다시 예측 성능 측정"
   ]
  },
  {
   "cell_type": "code",
   "execution_count": null,
   "id": "e0200cb2",
   "metadata": {},
   "outputs": [],
   "source": [
    "tfidf_vect= TfidfVectorizer(stop_words=\"english\", ngram_range= (1,2),max_df= 300)\n",
    "tfidf_vect.fit(X_train)\n",
    "X_train_tfidf_vect= tfidf_vect.transform(X_train)\n",
    "X_test_tfidf_vect= tfidf_vect.transform(X_test)\n",
    "\n",
    "lr_clf= LogisticRegression()\n",
    "lr_clf.fit(X_train_tfidf_vect,y_train)\n",
    "pred= lr_clf.predict(X_test_tfidf_vect)\n",
    "print('TF-IDF Vectorized Logistic Regression의 예측 정확도는 {0:.3f}'.format(accuracy_score(y_test,pred)))"
   ]
  },
  {
   "cell_type": "markdown",
   "id": "1b41622b",
   "metadata": {},
   "source": [
    "기본 파라미터보다 성능이 0.022%p 증가한 것을 알 수 있다."
   ]
  },
  {
   "cell_type": "markdown",
   "id": "bf57b88d",
   "metadata": {},
   "source": [
    "#### GridSearchCV를 이용해 로지스틱 회귀의 하이퍼 파라미터 최적화 수행"
   ]
  },
  {
   "cell_type": "markdown",
   "id": "3037699a",
   "metadata": {},
   "source": [
    "로지스틱 회귀의 C 파라미터만 변경하며서 최적의 C 값 찾은 뒤 C값으로 학습된 모델에서 테스트 데이터로 예측해 성능 평가"
   ]
  },
  {
   "cell_type": "code",
   "execution_count": null,
   "id": "59250609",
   "metadata": {},
   "outputs": [],
   "source": [
    "from sklearn.model_selection import GridSearchCV\n",
    "\n",
    "# 최적 C값 도출 튜닝 수행. CV는 3 폴드 세트로 설정\n",
    "params= {'C':[0.01,0.1,1,5,10]}\n",
    "grid_cv_lr= GridSearchCV(lr_clf, param_grid=params, cv=3, scoring='accuracy', verbose=1)\n",
    "grid_cv_lr.fit(X_train_tfidf_vect,y_train)\n",
    "print('Logistic Regression best C parameter:', grid_cv_lr.best_params_)\n",
    "\n",
    "# 최적 C 값으로 학습된 grid_cv로 예측 및 정확도 평가\n",
    "pred= grid_cv_lr.predict(X_test_tfidf_vect)\n",
    "print('TF-IDF Vectorized Logistic Regression 의 예측 정확도는 {0:.3f}'.format(accuracy_score(y_test, pred)))"
   ]
  },
  {
   "cell_type": "markdown",
   "id": "5a1dfd9f",
   "metadata": {},
   "source": [
    "로지스틱 회귀의 C가 10일 대 GridSearchCV의 교차 검증 테스트 세트에서 가장 좋은 예측 성능을 나타냈으며, 이를 테스트 데이터 세트에 적용해 약 0.703으로 조금더 향상된 성능 수치가 나왔다."
   ]
  },
  {
   "cell_type": "markdown",
   "id": "2d21b2ef",
   "metadata": {},
   "source": [
    "### 사이킷런 파이프라인 사용 및 GridSearchCV와의 결합\n",
    "- 사이킷런의 Pipeline클래스를 이용하면 피처 벡터화와 ML알고맂ㅁ 학습/예측을 위한 코드 작성을 한번에 할 수 있다.\n",
    "- 파이프라인이란, 데이터의 가공, 변환 등의 전처리와 알고리즘 적용을 수도관처럼 한꺼번에 스트림 기반으로 처리한다는 의미이다.\n",
    "- 사이킷런의 파이프라인은 텍스트 기반의 피처 벡터화, 모든 데이터 전처리 작업과 Estimatr를 결합할 수 있다."
   ]
  },
  {
   "cell_type": "markdown",
   "id": "00210985",
   "metadata": {},
   "source": [
    "다음은 앞선 텍스트 분류 예제 코드를 Pipeline을 이용해 다시 작성한 코드이다"
   ]
  },
  {
   "cell_type": "code",
   "execution_count": null,
   "id": "f548fad7",
   "metadata": {},
   "outputs": [],
   "source": [
    "from sklearn.pipeline import Pipeline\n",
    "pipeline= Pipeline([('tfidf_vect',TfidfVectorizer(stop_words='english')),('lr_clf',LogisticRegression(random_state=156))])"
   ]
  },
  {
   "cell_type": "markdown",
   "id": "881dcf88",
   "metadata": {},
   "source": [
    "- TfidfVectorizer객체를 tfidf_vect라는 객체 변수 명으로, LogisticRegression객체를 lr_vlf라는 객체 변수명으로 생성한 뒤 이 두 객체를 파이프라인으로 \n",
    "연결하는 Pipeline을 생성한다는 의미\n",
    "- 아래 코드를 보면 TfldfVectorizer의 학습 데이터와 테스트 데이터에 대한 fit과 transform수행을 통한 피처 벡터화와 LogisticRegressor의 fit과 predict수행을 통한 머신러닝 모델의\n",
    "학습과 예측이 Pipeline의 fit과 predict로 통일돼 수행됨을 알 수 있다. \n",
    "- 이렇게 파이프라인을 적용하면 머신러닝 코드를 더 직관적이고 쉽게 작성가능하다"
   ]
  },
  {
   "cell_type": "code",
   "execution_count": null,
   "id": "f3b4234c",
   "metadata": {
    "scrolled": true
   },
   "outputs": [],
   "source": [
    "pipeline= Pipeline([\n",
    "    ('tfidf_vect', TfidfVectorizer(stop_words='english',ngram_range=(1,2),max_df=300)),\n",
    "    ('lr_clf',LogisticRegression(C=10))\n",
    "])\n",
    "#별도의 TfidVectorizer 객체의 fit(),transform()과 LogisticRegression의 fit, predict가 필요없음\n",
    "\n",
    "pipeline.fit(X_train,y_train)\n",
    "pred= pipeline.predict(X_test)\n",
    "print('Pipeline을 통한 Logistic Regression의 예측 정확도는 {0:.3f}'.format(accuracy_score(y_test,pred)))"
   ]
  },
  {
   "cell_type": "markdown",
   "id": "73e0a2b5",
   "metadata": {},
   "source": [
    "- 파이프라인 기반 하이퍼 파라미터 튜닝 GridSearchCV 방식으로 진행\n",
    "- 피처 벡터화와 하이퍼파라미터 모두 한번에 GridSearchCV 이용해 최적화 가능"
   ]
  },
  {
   "cell_type": "markdown",
   "id": "93d78315",
   "metadata": {},
   "source": [
    "- Grid SearchCV에 Estimator가 아닌 Pipeline을 입력할 경우에는 param_grid의 입력값 설정이 기존과 약간 다르다. \n",
    "- 딕셔너리 형태의 key value값을 가지며, value값을 리스트 형태로 입력하는 것은 동일하다. 다만 Key 값을 살펴보면 'tfidf_vect_ngram_range'와 같이 \n",
    "하이퍼 파라미터명이 객체 변수명과 결합돼 제공된다.\n",
    "- Pipeline을 GridSearchCV에 인자로 입력하면 GridSearchCV는 Pipeline을 구성하는 피처 벡터화 객체의 파라미터와 \n",
    "Estimator객체의 하이퍼 파라미터를각각 구별할 수 있어야 하는데 개별 객체 명과 파라미터 명/하이퍼 파라미터 명을 결합해 key값으로 할당한다. \n",
    "- 가령 TfdifVectorizer객체 변수인 tfdif_vect의 ngram_range파라미터 값을 변화시키면서 최적화하기를 원한다면 객체 변수명인 tfdif_vect에 \n",
    "언더바 2개를 연달아 붙인 뒤 파라미터 명인 ngram_range를 결합해 'tfidf_vect_nrgram_range'를 key값으로 할당하는 것."
   ]
  },
  {
   "cell_type": "markdown",
   "id": "b775b702",
   "metadata": {},
   "source": [
    "#### 문제점"
   ]
  },
  {
   "cell_type": "markdown",
   "id": "a619728a",
   "metadata": {},
   "source": [
    "Pipeline + GridSearchCV 적용 시 유의점은 모든 파라미터를 최적화하려면 매우 많은 튜닝시간이 소모된다."
   ]
  },
  {
   "cell_type": "code",
   "execution_count": null,
   "id": "21981aae",
   "metadata": {},
   "outputs": [],
   "source": [
    "# 해당 코드는 데탑 혹은 므시로 실행하도록 하자\n",
    "from sklearn.pipeline import Pipeline\n",
    "\n",
    "pipeline= Pipeline([\n",
    "    ('tfidf_vect', TfidfVectorizer(stop_words='english')),\n",
    "    ('lr_clf',LogisticRegression())\n",
    "])\n",
    "\n",
    "#Pipeline에 기술된 가각 개체 변수에 언더바 2개를 연달아 붙여 GridSearchCV에 사용됨\n",
    "# 파라미터, 하이퍼 파라미터 이므과 값을 설정\n",
    "\n",
    "params= { 'tfidf_vect__ngram_range':[(1,1),(1,2),(1,3)],\n",
    "        'tfidf_vect__max_df':[100,300,700],\n",
    "        'lr_clf__C':[1,5,10]}\n",
    "\n",
    "#GridSearchCV의 생성자에 Estimator가 아닌 Pipeline 객체 입력\n",
    "grid_cv_pipe= GridSearchCV(pipeline, param_grid= params,cv=3, scoring=\"accuracy\",verbose=1)\n",
    "grid_cv_pipe.fit(X_train,y_train)\n",
    "print(grid_cv_pipe.best_params_,grid_cv_pipe.best_score_)\n",
    "\n",
    "pred= grid_cv_pipe.predict(X_test)\n",
    "print(\"Pipeline을 통한 Logistic Regression의 예측 정확도는 {0:.3f}.format(accuracy_score(y_test,pred))\")"
   ]
  },
  {
   "cell_type": "markdown",
   "id": "97b1045a",
   "metadata": {},
   "source": [
    "- 돌리는데 시간이 오래걸리는 관계로  \n",
    "- 예측 정확도는 0.702\n",
    "-  max_df= 700, ngram_range: (1,2)  0.75552412~\n",
    "- C하이퍼 파라미터는 10을 적용할 때 가장 좋은 성능이 나왔다.\n"
   ]
  },
  {
   "cell_type": "code",
   "execution_count": null,
   "id": "90229201",
   "metadata": {},
   "outputs": [],
   "source": []
  }
 ],
 "metadata": {
  "kernelspec": {
   "display_name": "Python 3",
   "language": "python",
   "name": "python3"
  },
  "language_info": {
   "codemirror_mode": {
    "name": "ipython",
    "version": 3
   },
   "file_extension": ".py",
   "mimetype": "text/x-python",
   "name": "python",
   "nbconvert_exporter": "python",
   "pygments_lexer": "ipython3",
   "version": "3.8.8"
  }
 },
 "nbformat": 4,
 "nbformat_minor": 5
}
