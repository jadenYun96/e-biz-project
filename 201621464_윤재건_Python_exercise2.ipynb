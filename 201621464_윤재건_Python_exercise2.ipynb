{
 "cells": [
  {
   "cell_type": "markdown",
   "id": "a0287d5a",
   "metadata": {},
   "source": [
    "##  이비즈 캡스톤 과제- 파이썬 스타일 코드2  \n",
    "### 201621464 윤재건"
   ]
  },
  {
   "cell_type": "markdown",
   "id": "29c3e559",
   "metadata": {},
   "source": [
    "### 1. 람다함수\n",
    "- 람다(lambda) 함수는 함수의 이름 없이, 함수처럼 사용할 수 있는 익명의 함수를 말한다. 선형대수나 미적분 등의 과목을 수강하다 보면, 한 번쯤 람다 대수라는 표현을 들어 보았을 것이다. 람다 함수의 '람다'는 바로 이 람다 대수에서 유래하였다. 일반적으로 람다 함수는 이름을 지정하지 않아도 사용할 수 있다."
   ]
  },
  {
   "cell_type": "markdown",
   "id": "7d886588",
   "metadata": {},
   "source": [
    "#### 1.1. 기존 함수"
   ]
  },
  {
   "cell_type": "code",
   "execution_count": 5,
   "id": "e03c21ed",
   "metadata": {},
   "outputs": [
    {
     "name": "stdout",
     "output_type": "stream",
     "text": [
      "5\n"
     ]
    }
   ],
   "source": [
    "def f(x,y):\n",
    "    return x+y\n",
    "print(f(1,4))"
   ]
  },
  {
   "cell_type": "markdown",
   "id": "e60245ea",
   "metadata": {},
   "source": [
    "#### 1.2. lambda 함수 할당"
   ]
  },
  {
   "cell_type": "code",
   "execution_count": 6,
   "id": "1fa1a39f",
   "metadata": {},
   "outputs": [
    {
     "name": "stdout",
     "output_type": "stream",
     "text": [
      "5\n"
     ]
    }
   ],
   "source": [
    "f= lambda x,y: x+y\n",
    "print(f(1,4))"
   ]
  },
  {
   "cell_type": "markdown",
   "id": "072a26ba",
   "metadata": {},
   "source": [
    "#### 1.3. 익명의 lambda 함수"
   ]
  },
  {
   "cell_type": "code",
   "execution_count": 7,
   "id": "86f49963",
   "metadata": {},
   "outputs": [
    {
     "name": "stdout",
     "output_type": "stream",
     "text": [
      "5\n"
     ]
    }
   ],
   "source": [
    "print((lambda x,y:x+y)(1,4))"
   ]
  },
  {
   "cell_type": "markdown",
   "id": "e0cab46b",
   "metadata": {},
   "source": [
    "### 2. 맵리듀스"
   ]
  },
  {
   "cell_type": "markdown",
   "id": "b37fcb53",
   "metadata": {},
   "source": [
    "#### 2.1. map 함수\n",
    "연속 데이터를 저장하는 시퀀스 자료형에서 요소마다 같은 기능을 적용할 때 사용한다. 일반적으로 리스트나 튜플처럼 요소가 있는 시퀀스 자료형에 사용된다. 다음의 사용 예제를 보자.\n",
    "\n"
   ]
  },
  {
   "cell_type": "code",
   "execution_count": 10,
   "id": "8f23402d",
   "metadata": {},
   "outputs": [
    {
     "name": "stdout",
     "output_type": "stream",
     "text": [
      "[1, 4, 9, 16, 25]\n"
     ]
    }
   ],
   "source": [
    "ex = [1,2,3,4,5] # 리스트 생성, \n",
    "f = lambda x:x**2 # 입력값을 제곱해주는 함수\n",
    "print(list(map(f, ex))) # 함수 f를 ex의 각 요소에 매핑한다. "
   ]
  },
  {
   "cell_type": "markdown",
   "id": "adfcfaa2",
   "metadata": {},
   "source": [
    "코드 설명  \n",
    "- 위 코드에서는 먼저 ex라는 이름의 리스트를 만들고, 입력된 값을 제곱하는 람다함수 f를 생성하였다. 그리고 'map(함수이름, 리스트 데이터)'의 구조에서 map(f,ex) 코드를 실행한다. 이는 해당 코드로 함수 f를 ex의 각 요소에 매핑하라는 뜻이다.  \n",
    "- 파이썬 2.x와 3.x의 차이는 제너레이터의 사용인데 3.x 부터는 map()함수의 기본 반환이 제너레이터이므로 list() 함수를 사용해야 리스트로 반환된다.  \n",
    "- 제너레이터(generator)는 시퀀스 자료형의 데이터를 처리할 때, 실행 시점의 값을 생성하여 효율적으로 메모리를 관리할 수 있다는 장점이 있따.  \n",
    "- 만일 list를 붙이지 않는다면, 다음 코드처럼 코딩할 수도 있다. 여기서 함수는 반드시 람다함수일 필요는 없고, 일반 함수를 만들어 사용해도 문제 없다."
   ]
  },
  {
   "cell_type": "markdown",
   "id": "99b20125",
   "metadata": {},
   "source": [
    "리스트를 사용하지 않고 매핑"
   ]
  },
  {
   "cell_type": "code",
   "execution_count": 12,
   "id": "5674d4b6",
   "metadata": {},
   "outputs": [
    {
     "name": "stdout",
     "output_type": "stream",
     "text": [
      "1\n",
      "4\n",
      "9\n",
      "16\n",
      "25\n"
     ]
    }
   ],
   "source": [
    "ex=[1,2,3,4,5]\n",
    "f=lambda x:x**2\n",
    "for value in map(f,ex):\n",
    "    print(value)"
   ]
  },
  {
   "cell_type": "markdown",
   "id": "fb1f7300",
   "metadata": {},
   "source": [
    "- 리스트 컴프리헨션과 비교  "
   ]
  },
  {
   "cell_type": "markdown",
   "id": "207a7519",
   "metadata": {},
   "source": [
    "\n",
    "최근에는 람다함수나 map() 함수를 프로그램 개발에 사용하는 것을 권장하지 않는다. 굳이 두 함수를 쓰지 않더라도 리스트 컴프리헨션 기법으로 얼마든지 같은 효과를 낼 수 있기 때문이다. 만약 위 코드를 리스트 컴프리헨션으로 변경하고자 한다면, 다음처럼 코딩하면 된다."
   ]
  },
  {
   "cell_type": "code",
   "execution_count": null,
   "id": "536dad4b",
   "metadata": {},
   "outputs": [],
   "source": [
    "ex=[1,2,3,4,5]\n",
    "[x**2 for x in ex]"
   ]
  },
  {
   "cell_type": "markdown",
   "id": "48e379e4",
   "metadata": {},
   "source": [
    "- 한개 이상의 시퀀스 자료형 데이터의 처리\n"
   ]
  },
  {
   "cell_type": "markdown",
   "id": "3820fe80",
   "metadata": {},
   "source": [
    "map()함수는 2개 이상의 시퀀스 자료형 데이터를 처리하는 데도 문제가 없다."
   ]
  },
  {
   "cell_type": "code",
   "execution_count": 15,
   "id": "9e798e8a",
   "metadata": {},
   "outputs": [
    {
     "data": {
      "text/plain": [
       "[2, 4, 6, 8, 10]"
      ]
     },
     "execution_count": 15,
     "metadata": {},
     "output_type": "execute_result"
    }
   ],
   "source": [
    "ex=[1,2,3,4,5]\n",
    "f=lambda x,y:x+y\n",
    "list(map(f,ex,ex))"
   ]
  },
  {
   "cell_type": "code",
   "execution_count": 16,
   "id": "60bd9e97",
   "metadata": {},
   "outputs": [
    {
     "data": {
      "text/plain": [
       "[2, 4, 6, 8, 10]"
      ]
     },
     "execution_count": 16,
     "metadata": {},
     "output_type": "execute_result"
    }
   ],
   "source": [
    "[x+y for x,y in zip(ex,ex)] # 리스트 컴프리헨션 용법"
   ]
  },
  {
   "cell_type": "markdown",
   "id": "3333520c",
   "metadata": {},
   "source": [
    "### 2.2. reduce 함수\n",
    "- map() 함수와 다르지만 형제처럼 사용하는 함수로 리스트와 같은 시쿼스 자료형에 차례대로 함수를 적용하여 모든 값을 통합하는 함수이다.\n",
    "- lambda 함수와 함께 쓰여 좀 복잡해 보여 예전에는 많이 쓰였으나 최근 버전에서는 사용을 권장하지 않는다. 그러나 많은 코드들이 여전히 사용하고 있어 이해차원에서 배울 필요가 있다."
   ]
  },
  {
   "cell_type": "code",
   "execution_count": 17,
   "id": "3b72f255",
   "metadata": {},
   "outputs": [
    {
     "name": "stdout",
     "output_type": "stream",
     "text": [
      "15\n"
     ]
    }
   ],
   "source": [
    "from functools import reduce # import reduce\n",
    "print(reduce(lambda x,y:x+y, [1,2,3,4,5])) # x+y이므로 리스트에 있는 값들을 모두 더한 값 출력"
   ]
  },
  {
   "cell_type": "code",
   "execution_count": 18,
   "id": "15a95ee2",
   "metadata": {},
   "outputs": [
    {
     "name": "stdout",
     "output_type": "stream",
     "text": [
      "15\n"
     ]
    }
   ],
   "source": [
    "x=0\n",
    "for y in [1,2,3,4,5]: # 1,2,3,4,5를 받는 y를 iteration\n",
    "    x += y   # 매 iteration 마다 x에 y를 더해줌\n",
    "print(x)"
   ]
  },
  {
   "cell_type": "markdown",
   "id": "cd0a5501",
   "metadata": {},
   "source": [
    "### 3. 별표의 활용\n",
    "#### 3.1. 가변 인수로 활용\n",
    "- 가변 인수"
   ]
  },
  {
   "cell_type": "code",
   "execution_count": 55,
   "id": "ec03b218",
   "metadata": {},
   "outputs": [
    {
     "name": "stdout",
     "output_type": "stream",
     "text": [
      "1 (2, 3, 4, 5, 6, 7)\n",
      "<class 'tuple'>\n"
     ]
    }
   ],
   "source": [
    "def asterisk_test(a, *args): # 가변 인수는 매개 변수의 개수가 미정일 때 사용하는 인수이다.\n",
    "    print(a,args)\n",
    "    print(type(args))\n",
    "\n",
    "asterisk_test(1,2,3,4,5,6,7)\n",
    "# 가변 인수는 기본값이 입력된 인수가 있거나 키워드 인자가 있지 않은 이상 항상 마지막 인수로 정의해야 한다.\n",
    "# 여러 개 인자를 튜플로 처리한다."
   ]
  },
  {
   "cell_type": "markdown",
   "id": "344e7d25",
   "metadata": {},
   "source": [
    "- 키워드 가변 인수"
   ]
  },
  {
   "cell_type": "code",
   "execution_count": 50,
   "id": "9f76dff1",
   "metadata": {},
   "outputs": [
    {
     "name": "stdout",
     "output_type": "stream",
     "text": [
      "1 {'b': 2, 'c': 3, 'd': 4, 'e': 5, 'f': 6}\n",
      "<class 'dict'>\n"
     ]
    }
   ],
   "source": [
    "def asterisk_test(a,**kargs): # *이 두개이면 키워드 가변인수가 된다. \n",
    "    print(a,kargs)  # \n",
    "    print(type(kargs))\n",
    "asterisk_test(1,b=2,c=3,d=4,e=5,f=6) # 여러개 인자를 dict로 처리한다."
   ]
  },
  {
   "cell_type": "markdown",
   "id": "303c75df",
   "metadata": {},
   "source": [
    "### 3.2. 별표의 언패킹 기능\n",
    "- 함수에서의 사용"
   ]
  },
  {
   "cell_type": "markdown",
   "id": "f3a407dc",
   "metadata": {},
   "source": [
    "패킹: a=(1,2,3,4)같이 하나의 변수에 여러 데이터 묶어 담기  \n",
    "언패킹: (a,b,c,d)=(1,2,3,4) 같이 여러 변수에 요소를 나누어 담기"
   ]
  },
  {
   "cell_type": "code",
   "execution_count": 21,
   "id": "c08e7a5a",
   "metadata": {},
   "outputs": [
    {
     "name": "stdout",
     "output_type": "stream",
     "text": [
      "1 2 3 4 5 6\n",
      "<class 'tuple'>\n"
     ]
    }
   ],
   "source": [
    "def asterisk_test(a,args): \n",
    "    print(a,*args) # 가변인수를 써주면 패킹을 해서 하나로 출력해준다.\n",
    "    print(type(args))\n",
    "asterisk_test(1,(2,3,4,5,6))"
   ]
  },
  {
   "cell_type": "code",
   "execution_count": 22,
   "id": "ddd31fb6",
   "metadata": {},
   "outputs": [
    {
     "name": "stdout",
     "output_type": "stream",
     "text": [
      "1 (2, 3, 4, 5, 6)\n",
      "<class 'tuple'>\n"
     ]
    }
   ],
   "source": [
    "def asterisk_test(a,args):\n",
    "    print(a,args) # 패킹이 되지 않아서 각각 출력된다\n",
    "    print(type(args))\n",
    "asterisk_test(1,(2,3,4,5,6))"
   ]
  },
  {
   "cell_type": "markdown",
   "id": "b1b332fc",
   "metadata": {},
   "source": [
    "- 일반 자료형에서의 사용"
   ]
  },
  {
   "cell_type": "code",
   "execution_count": 60,
   "id": "52b718aa",
   "metadata": {},
   "outputs": [
    {
     "name": "stdout",
     "output_type": "stream",
     "text": [
      "[1, 2]\n",
      "[3, 4]\n",
      "[5, 6]\n",
      "[1, 2] [3, 4] [5, 6]\n"
     ]
    }
   ],
   "source": [
    "a,b,c=([1,2], [3,4], [5,6]) # a,b,c에 각각 할당\n",
    "print(a)\n",
    "print(b)\n",
    "print(c)\n",
    "data=([1,2], [3,4], [5,6])\n",
    "print(*data)"
   ]
  },
  {
   "cell_type": "markdown",
   "id": "36fd6962",
   "metadata": {},
   "source": [
    "- zip 함수와의 응용"
   ]
  },
  {
   "cell_type": "markdown",
   "id": "84acb441",
   "metadata": {},
   "source": [
    "zip(): iterable한 객체를 인자로 받아서 객체가 담고 있는 원소를 튜플 형태로 접근할 수 있는 반복자 반환"
   ]
  },
  {
   "cell_type": "code",
   "execution_count": 26,
   "id": "026833ae",
   "metadata": {},
   "outputs": [
    {
     "name": "stdout",
     "output_type": "stream",
     "text": [
      "(1, 3, 5)\n",
      "<class 'tuple'>\n",
      "(2, 4, 6)\n",
      "<class 'tuple'>\n"
     ]
    }
   ],
   "source": [
    "for data in zip(*[[1,2],[3,4],[5,6]]):\n",
    "    print(data) # zip 객체[data] 출력\n",
    "    print(type(data))"
   ]
  },
  {
   "cell_type": "markdown",
   "id": "fb6f8080",
   "metadata": {},
   "source": [
    "- 키워드 가변 인수 응용"
   ]
  },
  {
   "cell_type": "code",
   "execution_count": 61,
   "id": "80897d5f",
   "metadata": {},
   "outputs": [
    {
     "name": "stdout",
     "output_type": "stream",
     "text": [
      "10 1 2 3\n"
     ]
    }
   ],
   "source": [
    "def asterisk_test(a,b,c,d):\n",
    "    print(a,b,c,d)\n",
    "data={\"b\":1, \"c\":2, \"d\":3}\n",
    "asterisk_test(10, **data) #data가 dict형태이므로 *이 2개를 써서 객체를 한번에 출력해줌"
   ]
  },
  {
   "cell_type": "markdown",
   "id": "3cc7648e",
   "metadata": {},
   "source": [
    "## 4. 선형대수학\n"
   ]
  },
  {
   "cell_type": "markdown",
   "id": "498f2763",
   "metadata": {},
   "source": [
    "### 4.1. 파이썬 스타일 코드로 표현한 벡터"
   ]
  },
  {
   "cell_type": "code",
   "execution_count": 28,
   "id": "cdfe1d83",
   "metadata": {},
   "outputs": [],
   "source": [
    "vector_a=[1,2,10]  # 리스트로 표현한 경우\n",
    "vector_b=(1,2,10)   # 튜플로 표현한 경우\n",
    "vector_c={'x':1, 'y':2, 'z':10}  # 딕셔너리로 표현한 경우"
   ]
  },
  {
   "cell_type": "markdown",
   "id": "13af8a16",
   "metadata": {},
   "source": [
    "- 벡터의 연산: 벡터합  \n",
    "[2,2]+[2,3]+[3,5]=[7,10]"
   ]
  },
  {
   "cell_type": "code",
   "execution_count": 30,
   "id": "6f9e28a7",
   "metadata": {},
   "outputs": [
    {
     "name": "stdout",
     "output_type": "stream",
     "text": [
      "[7, 10]\n"
     ]
    }
   ],
   "source": [
    "u=[2,2]\n",
    "v=[2,3]\n",
    "z=[3,5]\n",
    "result=[]\n",
    "\n",
    "for i in range(len(u)):\n",
    "    result.append(u[i]+v[i]+z[i])\n",
    "print(result)"
   ]
  },
  {
   "cell_type": "code",
   "execution_count": 62,
   "id": "9635545c",
   "metadata": {},
   "outputs": [
    {
     "name": "stdout",
     "output_type": "stream",
     "text": [
      "[7, 10]\n"
     ]
    }
   ],
   "source": [
    "u=[2,2]\n",
    "v=[2,3]\n",
    "z=[3,5]\n",
    "result=[sum(t) for t in zip(u,v,z)] # sum(zip객체[0]+zip객체[1])\n",
    "print(result)"
   ]
  },
  {
   "cell_type": "markdown",
   "id": "71ee022b",
   "metadata": {},
   "source": [
    "- 별표를 사용한 함수화"
   ]
  },
  {
   "cell_type": "code",
   "execution_count": 31,
   "id": "0fcb60d8",
   "metadata": {},
   "outputs": [
    {
     "data": {
      "text/plain": [
       "[7, 10]"
      ]
     },
     "execution_count": 31,
     "metadata": {},
     "output_type": "execute_result"
    }
   ],
   "source": [
    "def vector_addition(*args):\n",
    "    return [sum(t) for t in zip(*args)]   # unpacking 통해 zip(u,v,z) 효과를 낼 수 있음.\n",
    "\n",
    "vector_addition(u,v,z)"
   ]
  },
  {
   "cell_type": "markdown",
   "id": "bf42f132",
   "metadata": {},
   "source": [
    "- 간단한 두벡터의 합\n"
   ]
  },
  {
   "cell_type": "code",
   "execution_count": null,
   "id": "d66ebb1b",
   "metadata": {},
   "outputs": [],
   "source": [
    "a = [1, 1]\n",
    "b = [2, 2]\n",
    "\n",
    "[x + y for x, y in zip(a, b)]"
   ]
  },
  {
   "cell_type": "markdown",
   "id": "6d355d88",
   "metadata": {},
   "source": [
    "- 벡터의 연산: 스칼라곱"
   ]
  },
  {
   "cell_type": "code",
   "execution_count": 63,
   "id": "9939e012",
   "metadata": {},
   "outputs": [
    {
     "data": {
      "text/plain": [
       "[10, 12, 14]"
      ]
     },
     "execution_count": 63,
     "metadata": {},
     "output_type": "execute_result"
    }
   ],
   "source": [
    "u=[1,2,3]\n",
    "v=[4,4,4]\n",
    "\n",
    "alpha=2\n",
    "\n",
    "result=[alpha*sum(t) for t in zip(u,v)] # u,v 인데스값의 합*alpha\n",
    "result"
   ]
  },
  {
   "cell_type": "markdown",
   "id": "078fd896",
   "metadata": {},
   "source": [
    "### 4.2. 파이썬 스타일코드로 표현한 행렬\n",
    "- 딕셔너리로 표현하는 경우 좌표정보나 이름정보를 넣을 수 있으나 복잡함\n"
   ]
  },
  {
   "cell_type": "code",
   "execution_count": 33,
   "id": "75d2b699",
   "metadata": {},
   "outputs": [],
   "source": [
    "matrix_a=[[3,6], [4,5]] #리스트로 표현한 경우\n",
    "matrix_b=[(3,6), (4,5)] #튜플로 표현한 경우\n",
    "matrix_c={(0,0):3, (0,1):6, (1,0):4, (1,1):5}  #디셔너리로 표현한경우"
   ]
  },
  {
   "cell_type": "markdown",
   "id": "b1711a36",
   "metadata": {},
   "source": [
    "- 행렬의 연산: 행렬의 elemnet-wise 합"
   ]
  },
  {
   "cell_type": "code",
   "execution_count": 64,
   "id": "ccca26e8",
   "metadata": {},
   "outputs": [
    {
     "name": "stdout",
     "output_type": "stream",
     "text": [
      "[[8, 14], [10, 12]]\n"
     ]
    }
   ],
   "source": [
    "matrix_a=[[3,6], [4,5]]\n",
    "matrix_b=[[5,8], [6,7]]\n",
    "\n",
    "# iter=0, [3+5,],[4+6,] / iter=2,[,6+8][,5+7]\n",
    "result=[[sum(row) for row in zip(*t)] for t in zip(matrix_a, matrix_b)]\n",
    "print(result)"
   ]
  },
  {
   "cell_type": "markdown",
   "id": "8f3fc1c9",
   "metadata": {},
   "source": [
    "## 일반문제"
   ]
  },
  {
   "cell_type": "markdown",
   "id": "40e994ce",
   "metadata": {},
   "source": [
    "---"
   ]
  },
  {
   "cell_type": "markdown",
   "id": "410a25c9",
   "metadata": {},
   "source": [
    "### 주민등록번호로 성별 찾기 with map\n",
    "PR6에서 split을 활용하여 주민등록번호 뒷자리의 맨 첫 번째 숫자를 추출하여 성별을 알아내는 과정을 구현하였다. 이번에는 여러개의 요소를 가지는 다음과 같은 리스트에서 성별을 찾는 과정을 맵리듀스를 이용해 간단하게 구현해보자.\n",
    "\n",
    ">pins = [\"891120-1234567\", \"931120-2335567\", \"911120-1234234\", \"951120-1234567\"]  "
   ]
  },
  {
   "cell_type": "markdown",
   "id": "47b396c2",
   "metadata": {},
   "source": [
    ">Q: lambda와 map을 사용하여 위의 리스트에서 출력결과 예시와 같이 성별을 나타내는 값을 추출하시오."
   ]
  },
  {
   "cell_type": "code",
   "execution_count": 140,
   "id": "82881ceb",
   "metadata": {},
   "outputs": [
    {
     "data": {
      "text/plain": [
       "['1', '2', '1', '1']"
      ]
     },
     "execution_count": 140,
     "metadata": {},
     "output_type": "execute_result"
    }
   ],
   "source": [
    "pins = [\"891120-1234567\", \"931120-2335567\", \"911120-1234234\", \"951120-1234567\"]\n",
    "\n",
    "# 본래 list는 split을 사용할 수 없지만 map을 사용하면 list인 pins를 \n",
    "# 문자열로 변환하지 않고도 split을 사용할 수 있다.\n",
    "list(map(lambda x : x.split(\"-\")[1][0],pins))"
   ]
  },
  {
   "cell_type": "markdown",
   "id": "9de3ebad",
   "metadata": {},
   "source": [
    "## 도전문제\n"
   ]
  },
  {
   "cell_type": "markdown",
   "id": "ddf94631",
   "metadata": {},
   "source": [
    "\n",
    "---"
   ]
  },
  {
   "cell_type": "markdown",
   "id": "a5aedca5",
   "metadata": {},
   "source": [
    "### 벡터의 내적\n",
    "크기가 같은 두 벡터의 내적은 벡터의 각 성분별 곱한 값을 더해준 값이다.\n"
   ]
  },
  {
   "cell_type": "markdown",
   "id": "171a8c6b",
   "metadata": {},
   "source": [
    "<center>v1∗w1+⋯+vn∗wn</center>  "
   ]
  },
  {
   "cell_type": "markdown",
   "id": "8c8c6ec3",
   "metadata": {},
   "source": [
    ">Q: 크기가 같은 두 벡터 (list 형태)를 받으면 이를 내적한 값을 도출하는 함수 dot을 구현하고, 이를 활용하여 a=[1, 2], b=[3,4]를 내적한 값을 구하시오."
   ]
  },
  {
   "cell_type": "code",
   "execution_count": 146,
   "id": "3ed90aea",
   "metadata": {},
   "outputs": [
    {
     "data": {
      "text/plain": [
       "11"
      ]
     },
     "execution_count": 146,
     "metadata": {},
     "output_type": "execute_result"
    }
   ],
   "source": [
    "a=[1,2]\n",
    "b=[3,4]\n",
    "\n",
    "# 벡터의 내적은 성분별 곱합 값을 더해준 값 이는 위에서 계속 나온 zip으로 각 iterable한 객체를 튜플로 저장한다.\n",
    "# zip의 값을 순서대로 곱한 1x3과 2x4를 sum으로 더해준다.\n",
    "dot= lambda a,b : sum([x*y for x,y in zip(a,b)])\n",
    "\n",
    "dot(a,b)"
   ]
  }
 ],
 "metadata": {
  "kernelspec": {
   "display_name": "Python 3",
   "language": "python",
   "name": "python3"
  },
  "language_info": {
   "codemirror_mode": {
    "name": "ipython",
    "version": 3
   },
   "file_extension": ".py",
   "mimetype": "text/x-python",
   "name": "python",
   "nbconvert_exporter": "python",
   "pygments_lexer": "ipython3",
   "version": "3.8.8"
  }
 },
 "nbformat": 4,
 "nbformat_minor": 5
}
