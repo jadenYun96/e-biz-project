{
 "cells": [
  {
   "cell_type": "markdown",
   "id": "e2981d4b",
   "metadata": {},
   "source": [
    "## 이비즈 캡스톤 과제- 파이썬 스타일 코드1\n",
    "### 201621464 윤재건"
   ]
  },
  {
   "cell_type": "markdown",
   "id": "0eb36170",
   "metadata": {},
   "source": [
    "### 1. Css Selector 수정\n",
    "Css Selector는 웹 페이지에서 특정 요소를 선택하기 위해 해당 요소까지 찾아갈 수 있도록 해주는 주소와 같은 것이다.  \n",
    "대부분의 웹브라우져에서 는 해당 요소에 대한 css selector 값을 쉽게 얻어올 수 있다 (F12 > Select an Element).   \n",
    "다음과 같은 selector가 있다고 한다.\n"
   ]
  },
  {
   "cell_type": "markdown",
   "id": "fc1a0a95",
   "metadata": {},
   "source": [
    "\n",
    "####  #today_main_news > div.hdline_news > ul > li:nth-child(1) \n"
   ]
  },
  {
   "cell_type": "markdown",
   "id": "97fcfbfb",
   "metadata": {},
   "source": [
    "이러한 selector를 웹크롤링에서 사용하기 위해서는 :nth-child라는 부분을 제거하는 작업이 필요한데,이를 자동화 해보자.\n",
    "\n",
    ">Q: 해당 Selector를 문자열로 표시하고,   \n",
    "    split과 join 함수를 활용하여 다음 예시와 같은 selector를 출력하시오."
   ]
  },
  {
   "cell_type": "code",
   "execution_count": 6,
   "id": "244d7e5b",
   "metadata": {},
   "outputs": [
    {
     "data": {
      "text/plain": [
       "'#today_main_news  >  div.hdline_news  >  ul  >  li'"
      ]
     },
     "execution_count": 6,
     "metadata": {},
     "output_type": "execute_result"
    }
   ],
   "source": [
    "selector = \"#today_main_news > div.hdline_news > ul > li:nth-child(1)\"\n",
    "\n",
    "# selector에 해당하는 구문을 \">\"를 기준으로 쪼개어 리스트로 저장한다.\n",
    "selector_list= selector.split(\">\") \n",
    "\n",
    "# 'li:nth-child(1)'는 리스트의 마지막 인덱스이므로 selector_list[-1]에서 다시 \":\"를 기준으로 split한다음\n",
    "# selector_list[-1]에서 첫번째 element인 \"li:\"만을 변수로 할당하여 준다.\n",
    "selector_list[-1]= selector_list[-1].split(\":\")[0]\n",
    "\n",
    "# 다시 \" > \"를 넣어 태그 주소를 구분하여 준다.\n",
    "\" > \".join(selector_list)"
   ]
  },
  {
   "cell_type": "markdown",
   "id": "2a790a9a",
   "metadata": {},
   "source": [
    "### 2. list comprehension으로 만드는 구구단\n",
    "PR5 문제 3번에서 만들었던 구구단 계산기를 list comprehension으로 구현해보고자 한다.\n",
    "\n",
    "> Q: list comprehension을 사용하여 구구단을 연산하는 함수 gugu_com을 작성하고 구구단 7단을 출력하시오."
   ]
  },
  {
   "cell_type": "code",
   "execution_count": 11,
   "id": "f8634e62",
   "metadata": {},
   "outputs": [
    {
     "name": "stdout",
     "output_type": "stream",
     "text": [
      "7x1=7\n",
      "7x2=14\n",
      "7x3=21\n",
      "7x4=28\n",
      "7x5=35\n",
      "7x6=42\n",
      "7x7=49\n",
      "7x8=56\n",
      "7x9=63\n"
     ]
    }
   ],
   "source": [
    "def gugu_com(x=7): # 구구단 7단이므로 x=7\n",
    "    # format을 사용해 7단이 들어갈 'x'와 1부터 9까지 i를 받아주는 for문을 작성하면 \n",
    "    # 리스트 컴프리헨션으로 한줄로 써준다.\n",
    "    [print(f\"{x}x{i}={x*i}\") for i in range(1,10)] \n",
    "    \n",
    "gugu_com(x=7)"
   ]
  },
  {
   "cell_type": "markdown",
   "id": "70ac331d",
   "metadata": {},
   "source": [
    "### 3. 두 주사위의 곱"
   ]
  },
  {
   "cell_type": "markdown",
   "id": "b049491d",
   "metadata": {},
   "source": [
    ">Q: list comprehension을 사용하여, 힌트를 제외하고는 한줄의 코드로 해당 결과를 가지는 이차원 리스트를 만드시오."
   ]
  },
  {
   "cell_type": "code",
   "execution_count": 28,
   "id": "c055ef47",
   "metadata": {},
   "outputs": [
    {
     "data": {
      "text/plain": [
       "[[1, 2, 3, 4, 5, 6],\n",
       " [2, 4, 6, 8, 10, 12],\n",
       " [3, 6, 9, 12, 15, 18],\n",
       " [4, 8, 12, 16, 20, 24],\n",
       " [5, 10, 15, 20, 25, 30],\n",
       " [6, 12, 18, 24, 30, 36]]"
      ]
     },
     "execution_count": 28,
     "metadata": {},
     "output_type": "execute_result"
    }
   ],
   "source": [
    "die = [i for i in range(1,7)] # 리스트 컴프리헨션으로 i를 1부터 6까지 반복하는 i를 출력하고\n",
    "# 가로 세로가 같은 이차원 리스트이고, 출력값은 가로와 세로를 곱한 값이다.\n",
    "# 내부에서 i로 반복하여주고 바깥에서 j로 반복하여주면 (1-6)*(1-6)이차원 리스트를 만들 수 있따.\n",
    "[[i*j for i in die]for j in die] "
   ]
  },
  {
   "cell_type": "markdown",
   "id": "85ca5711",
   "metadata": {},
   "source": [
    "### 4. 두 주사위의 합  \n",
    "간단한 테이블 형태의 데이터를 2차원 리스트로 표현해보자.   \n",
    "2개의 주사위를 굴리면 다음 표와 같이 36가지의 결과가 나온다."
   ]
  },
  {
   "cell_type": "markdown",
   "id": "ebcb6879",
   "metadata": {},
   "source": [
    ">Q: 이것을 6 x 6 크기의 2차원 리스트로 생성하고, 인덱싱을 통해 2 + 6의 값을 2가지 방법으로 나타내시오.   (2차원 리스트 생성시 방법의 제한은 없습니다.)"
   ]
  },
  {
   "cell_type": "markdown",
   "id": "adfc57d7",
   "metadata": {},
   "source": [
    "#### 이차원 리스트 생성"
   ]
  },
  {
   "cell_type": "code",
   "execution_count": 34,
   "id": "8bda25a1",
   "metadata": {},
   "outputs": [],
   "source": [
    "# 3번과 가로세로가 같은데 가로i와 세로j를 더한 값이므로\n",
    "# 3번 코드에서 i+j만 변경해주었다.\n",
    "die = [i for i in range(1,7)]\n",
    "die_table=[[i+j for i in die]for j in die]"
   ]
  },
  {
   "cell_type": "code",
   "execution_count": 35,
   "id": "776cde1a",
   "metadata": {},
   "outputs": [
    {
     "data": {
      "text/plain": [
       "[[2, 3, 4, 5, 6, 7],\n",
       " [3, 4, 5, 6, 7, 8],\n",
       " [4, 5, 6, 7, 8, 9],\n",
       " [5, 6, 7, 8, 9, 10],\n",
       " [6, 7, 8, 9, 10, 11],\n",
       " [7, 8, 9, 10, 11, 12]]"
      ]
     },
     "execution_count": 35,
     "metadata": {},
     "output_type": "execute_result"
    }
   ],
   "source": [
    "die_table"
   ]
  },
  {
   "cell_type": "markdown",
   "id": "a4dacd4d",
   "metadata": {},
   "source": [
    "#### 방법1. 2+6"
   ]
  },
  {
   "cell_type": "code",
   "execution_count": 37,
   "id": "aeec03da",
   "metadata": {},
   "outputs": [
    {
     "data": {
      "text/plain": [
       "8"
      ]
     },
     "execution_count": 37,
     "metadata": {},
     "output_type": "execute_result"
    }
   ],
   "source": [
    "# 리스트[세로2, 가로6] 탐색 파이썬 리스트에선 2-1,6-1이므로\n",
    "die_table[1][5]"
   ]
  },
  {
   "cell_type": "markdown",
   "id": "7a583956",
   "metadata": {},
   "source": [
    "#### 방법2. 2+6"
   ]
  },
  {
   "cell_type": "code",
   "execution_count": 38,
   "id": "7a3a66eb",
   "metadata": {},
   "outputs": [
    {
     "data": {
      "text/plain": [
       "8"
      ]
     },
     "execution_count": 38,
     "metadata": {},
     "output_type": "execute_result"
    }
   ],
   "source": [
    "# 리스트[세로6, 가로2] 주사위에 순서가 있는게 아니므로 반대로 해도 같다.\n",
    "die_table[5][1]"
   ]
  },
  {
   "cell_type": "markdown",
   "id": "49c79095",
   "metadata": {},
   "source": [
    "## 도전문제"
   ]
  },
  {
   "cell_type": "markdown",
   "id": "521afbf9",
   "metadata": {},
   "source": [
    "### 표절 검사 프로그램\n",
    "#### 강의노트 07 자료구조 collections 설명 참고\n",
    "\n",
    "아주대학교 글로벌 경영학과의 한 교수님은 과제의 표절 검사를 쉽게 하기 위해 Python을 통한 간단한 표절 검사 프로그램을 작성해보고자 한다.\n",
    "\n",
    "현재 구상 중인 프로그램은 복잡한 알고리즘을 필요로하지 않고, 간단하게 단어 빈도를 기반으로 하여, 그 유사도를 측정하고자한다."
   ]
  },
  {
   "cell_type": "code",
   "execution_count": 95,
   "id": "793d43d4",
   "metadata": {},
   "outputs": [],
   "source": [
    "from collections import defaultdict, Counter\n",
    "\n",
    "text = \"\"\"Python is a very simple programming language so even if you are new to programming, you can learn python without facing any issues.\"\"\"\n",
    "\n",
    "text2 = \"\"\"C is a very difficult programming language so even if you are good at programming, you can learn c with facing any issues.\"\"\"\n",
    "\n",
    "text3 = \"\"\"R Programming is good at statistical analysis. you can learn easily\"\"\""
   ]
  },
  {
   "cell_type": "markdown",
   "id": "00940090",
   "metadata": {},
   "source": [
    "#### 문제1\n",
    ">defaultdict를 활용하여 text를 입력받으면 단어별 빈도를 측정하여 반환하는 함수 word_counter를 만드시오."
   ]
  },
  {
   "cell_type": "code",
   "execution_count": 96,
   "id": "6d025847",
   "metadata": {},
   "outputs": [],
   "source": [
    "def word_counter(text):\n",
    "    word_count= defaultdict(int) # defaultdict 정의 기본값은 int, 0으로 초기화\n",
    "    for word in text.lower().split(): # text 소문자화, split\n",
    "        word_count[word]+=1   # text의 단어를 key값으로, 단어를 볼때마다 value에 count해준다.\n",
    "    return word_count\n",
    "    "
   ]
  },
  {
   "cell_type": "code",
   "execution_count": 97,
   "id": "0bea42dc",
   "metadata": {},
   "outputs": [
    {
     "data": {
      "text/plain": [
       "defaultdict(int,\n",
       "            {'python': 2,\n",
       "             'is': 1,\n",
       "             'a': 1,\n",
       "             'very': 1,\n",
       "             'simple': 1,\n",
       "             'programming': 1,\n",
       "             'language': 1,\n",
       "             'so': 1,\n",
       "             'even': 1,\n",
       "             'if': 1,\n",
       "             'you': 2,\n",
       "             'are': 1,\n",
       "             'new': 1,\n",
       "             'to': 1,\n",
       "             'programming,': 1,\n",
       "             'can': 1,\n",
       "             'learn': 1,\n",
       "             'without': 1,\n",
       "             'facing': 1,\n",
       "             'any': 1,\n",
       "             'issues.': 1})"
      ]
     },
     "execution_count": 97,
     "metadata": {},
     "output_type": "execute_result"
    }
   ],
   "source": [
    "word_counter(text)"
   ]
  },
  {
   "cell_type": "markdown",
   "id": "3273184d",
   "metadata": {},
   "source": [
    "### 문제2"
   ]
  },
  {
   "cell_type": "markdown",
   "id": "c6d8a283",
   "metadata": {},
   "source": [
    ">Q: 도전문제 1의 word_counter 활용하여 text와 text2의 유사도와 text와 text3의 유사도를 구하시오."
   ]
  },
  {
   "cell_type": "markdown",
   "id": "409912bf",
   "metadata": {},
   "source": [
    "#### 유사도\n",
    "(1−[∑{Counter(A)−Counter(B)}/∑Counter(A)] )×100"
   ]
  },
  {
   "cell_type": "code",
   "execution_count": 105,
   "id": "d6f149f0",
   "metadata": {},
   "outputs": [],
   "source": [
    "def similarity(t1,t2): # 두 문장 간의 유사도 함수 정의\n",
    "    t1= Counter(word_counter(t1)) # word_counter로 단어 간 분리와 소문자화\n",
    "    t2= Counter(word_counter(t2)) # Counter로 문자의 단어별 빈도수 구함\n",
    "    diff= sum((t1-t2).values()) # 문장1에서 문장2와 공통된 단어를 제거한 단어 개수\n",
    "    total= sum(t1.values()) # 문장1의 단어 개수\n",
    "    return 100-100*(diff/total)# 유사도 공식"
   ]
  },
  {
   "cell_type": "code",
   "execution_count": 106,
   "id": "b3823820",
   "metadata": {},
   "outputs": [
    {
     "name": "stdout",
     "output_type": "stream",
     "text": [
      "text와 text2의 유사도는 73.91304347826087. 이다.\n",
      "text와 text3의 유사도는 21.73913043478261. 이다.\n"
     ]
    }
   ],
   "source": [
    "print(\"text와 text2의 유사도는 {}. 이다.\".format(similarity(text,text2)))\n",
    "print(\"text와 text3의 유사도는 {}. 이다.\".format(similarity(text,text3)))"
   ]
  },
  {
   "cell_type": "code",
   "execution_count": null,
   "id": "25e365a0",
   "metadata": {},
   "outputs": [],
   "source": []
  }
 ],
 "metadata": {
  "kernelspec": {
   "display_name": "Python 3",
   "language": "python",
   "name": "python3"
  },
  "language_info": {
   "codemirror_mode": {
    "name": "ipython",
    "version": 3
   },
   "file_extension": ".py",
   "mimetype": "text/x-python",
   "name": "python",
   "nbconvert_exporter": "python",
   "pygments_lexer": "ipython3",
   "version": "3.8.8"
  }
 },
 "nbformat": 4,
 "nbformat_minor": 5
}
