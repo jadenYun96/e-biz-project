{
 "cells": [
  {
   "cell_type": "markdown",
   "id": "7307a689",
   "metadata": {},
   "source": [
    "# SNA Implementation\n"
   ]
  },
  {
   "cell_type": "markdown",
   "id": "ecb47855",
   "metadata": {},
   "source": [
    "### 201621464_윤재건"
   ]
  },
  {
   "cell_type": "markdown",
   "id": "b5c15d8f",
   "metadata": {},
   "source": [
    "### 마블 히어로 관계 데이터를 통해 인싸 아이언맨의 중심성을 분석하고 숨겨진 인싸는 누구일지 알아보자"
   ]
  },
  {
   "cell_type": "markdown",
   "id": "4fb874c1",
   "metadata": {},
   "source": [
    "마블 히어로 연결 데이터는 캐글(\"https://www.kaggle.com/csanhueza/the-marvel-universe-social-network\")에서 구하였다.    \n",
    "- hero-network.csv: (hero1,hero2) 두 개의 컬럼으로 구성, 어떤 히어로들이 코믹에 같이   출현했는지 나타냄 (서로 다른 여러 만화에서 출현한 경우 중복되어 표기되었는데,   하나의 노드로 표현하기 위해서 전체 52만개의 로우에서 중복된 **30만 개의 로우를 중복제거**하였다.)"
   ]
  },
  {
   "cell_type": "code",
   "execution_count": 1,
   "id": "d84e5375",
   "metadata": {},
   "outputs": [],
   "source": [
    "import numpy as np\n",
    "import pandas as pd\n",
    "import matplotlib.pyplot as plt\n",
    "import re\n",
    "import networkx as nx\n",
    "# %matplotlib inline # 시각화 자료를 바로 확인할 수 있게 해줌"
   ]
  },
  {
   "cell_type": "code",
   "execution_count": 2,
   "id": "103fc72f",
   "metadata": {},
   "outputs": [],
   "source": [
    "hero_df= pd.read_csv(\"hero-network.csv\") # 연결망 데이터"
   ]
  },
  {
   "cell_type": "code",
   "execution_count": 3,
   "id": "fa17e467",
   "metadata": {},
   "outputs": [
    {
     "data": {
      "text/plain": [
       "224181"
      ]
     },
     "execution_count": 3,
     "metadata": {},
     "output_type": "execute_result"
    }
   ],
   "source": [
    "len(hero_df)"
   ]
  },
  {
   "cell_type": "code",
   "execution_count": 5,
   "id": "e75d13c6",
   "metadata": {},
   "outputs": [
    {
     "name": "stdout",
     "output_type": "stream",
     "text": [
      "Index(['CAPTAIN AMERICA', 'SPIDER-MAN/PETER PAR', 'IRON MAN/TONY STARK ',\n",
      "       'WOLVERINE/LOGAN ', 'SCARLET WITCH/WANDA ', 'THING/BENJAMIN J. GR',\n",
      "       'HUMAN TORCH/JOHNNY S', 'MR. FANTASTIC/REED R', 'THOR/DR. DONALD BLAK',\n",
      "       'VISION ',\n",
      "       ...\n",
      "       'LEVIATHAN V', 'FAHE', 'MARCHALLA II', 'MANNING, ERIKA', 'VIGIL',\n",
      "       'MASTIFF, MINNIE', 'SCORCH/TOMMY NG', 'TAUREY, SIR WILLIAM',\n",
      "       'HOLLYWOOD', 'GEDDINGS, JUDITH GHO'],\n",
      "      dtype='object', length=6211)\n"
     ]
    }
   ],
   "source": [
    "hero_name= hero_freq.keys() # 히어로의 이름 \n",
    "print(hero_name)\n",
    "insider_list=[] # 히어로의 개체가 너무 많아서 영향력이 매우 높은 "
   ]
  },
  {
   "cell_type": "code",
   "execution_count": 7,
   "id": "5c5abdc0",
   "metadata": {},
   "outputs": [],
   "source": [
    "insider_list=list(set(insider_list))"
   ]
  },
  {
   "cell_type": "code",
   "execution_count": 8,
   "id": "1f42e20f",
   "metadata": {},
   "outputs": [],
   "source": [
    "insider_df=pd.DataFrame(columns=hero_df.columns)"
   ]
  },
  {
   "cell_type": "code",
   "execution_count": 12,
   "id": "8b74c4ef",
   "metadata": {},
   "outputs": [
    {
     "name": "stdout",
     "output_type": "stream",
     "text": [
      "Name: \n",
      "Type: Graph\n",
      "Number of nodes: 6426\n",
      "Number of edges: 167219\n",
      "Average degree:  52.0445\n"
     ]
    }
   ],
   "source": [
    "graph1= nx.Graph()\n",
    "graph1= nx.nx.from_pandas_edgelist(hero_df,source=\"hero1\",target=\"hero2\")\n",
    "print(nx.info(graph1))"
   ]
  },
  {
   "cell_type": "markdown",
   "id": "ee36aead",
   "metadata": {},
   "source": [
    "### 중심성"
   ]
  },
  {
   "cell_type": "markdown",
   "id": "979b6f96",
   "metadata": {},
   "source": [
    "#### 연결정도 중심성(아는 노드가 많은 정도)"
   ]
  },
  {
   "cell_type": "code",
   "execution_count": 13,
   "id": "845b4479",
   "metadata": {},
   "outputs": [
    {
     "data": {
      "text/plain": [
       "[('CAPTAIN AMERICA', 0.2969649805447471),\n",
       " ('SPIDER-MAN/PETER PAR', 0.2703501945525292),\n",
       " ('IRON MAN/TONY STARK ', 0.23688715953307396),\n",
       " ('THING/BENJAMIN J. GR', 0.2203891050583658),\n",
       " ('MR. FANTASTIC/REED R', 0.21463035019455254)]"
      ]
     },
     "execution_count": 13,
     "metadata": {},
     "output_type": "execute_result"
    }
   ],
   "source": [
    "degree_cen= nx.degree_centrality(graph1)\n",
    "#degree_cen은 dictionary이기 때문에 값(중심성)을 기준으로 내림차순 정렬하려면 lambda식이 필요하다\n",
    "sorted(degree_cen.items(),key= lambda x:x[1],reverse=True)[0:5]"
   ]
  },
  {
   "cell_type": "markdown",
   "id": "c1daa03b",
   "metadata": {},
   "source": [
    "#### 근접 중심성( 중심과 가까워 신속한 전파가 가능한 정도)\n"
   ]
  },
  {
   "cell_type": "code",
   "execution_count": 14,
   "id": "bc43d8c4",
   "metadata": {},
   "outputs": [
    {
     "data": {
      "text/plain": [
       "[('CAPTAIN AMERICA', 0.583688144346388),\n",
       " ('SPIDER-MAN/PETER PAR', 0.5740902532137266),\n",
       " ('IRON MAN/TONY STARK ', 0.5614279813721937),\n",
       " ('THING/BENJAMIN J. GR', 0.5577521106953788),\n",
       " ('MR. FANTASTIC/REED R', 0.556053126894305)]"
      ]
     },
     "execution_count": 14,
     "metadata": {},
     "output_type": "execute_result"
    }
   ],
   "source": [
    "clos_cen = nx.closeness_centrality(graph1)\n",
    "sorted(clos_cen.items(), key=lambda x:x[1], reverse=True)[0:5]"
   ]
  },
  {
   "cell_type": "markdown",
   "id": "04f44a31",
   "metadata": {},
   "source": [
    "#### 아이겐벡터 중심성(중심성이 높은 친구들을 많이 아는 정도)"
   ]
  },
  {
   "cell_type": "code",
   "execution_count": 15,
   "id": "7dc2620a",
   "metadata": {},
   "outputs": [
    {
     "data": {
      "text/plain": [
       "[('CAPTAIN AMERICA', 0.11677469223625939),\n",
       " ('IRON MAN/TONY STARK ', 0.10254077322184336),\n",
       " ('SCARLET WITCH/WANDA ', 0.10082113046617165),\n",
       " ('THING/BENJAMIN J. GR', 0.10078249100850409),\n",
       " ('SPIDER-MAN/PETER PAR', 0.1002321495868602)]"
      ]
     },
     "execution_count": 15,
     "metadata": {},
     "output_type": "execute_result"
    }
   ],
   "source": [
    "eigen_cen=nx.eigenvector_centrality(graph1)\n",
    "sorted(eigen_cen.items(), key= lambda x:x[1], reverse=True)[0:5]"
   ]
  },
  {
   "cell_type": "markdown",
   "id": "5bbb451f",
   "metadata": {},
   "source": [
    "아이언맨은 역시 모든 중심성에서 top3에 등극했다.    \n",
    "하지만 1등은 연결정도/근접/아이겐벡터 중심성에서 모두 1등을 한   \n",
    "**캡틴 아메리카**이다"
   ]
  },
  {
   "cell_type": "code",
   "execution_count": null,
   "id": "46b942a9",
   "metadata": {},
   "outputs": [],
   "source": [
    "# spring_layout의 네트워크 그래프는 아래와 같은 형태를 갖는다.\n",
    "plt.figure(figsize=(20, 20))\n",
    "pos = nx.spring_layout(graph1, k = 0.15)\n",
    "nx.draw_networkx(graph1,pos, node_size = 25, node_color = 'blue')\n",
    "plt.show() "
   ]
  }
 ],
 "metadata": {
  "kernelspec": {
   "display_name": "Python 3",
   "language": "python",
   "name": "python3"
  },
  "language_info": {
   "codemirror_mode": {
    "name": "ipython",
    "version": 3
   },
   "file_extension": ".py",
   "mimetype": "text/x-python",
   "name": "python",
   "nbconvert_exporter": "python",
   "pygments_lexer": "ipython3",
   "version": "3.8.8"
  }
 },
 "nbformat": 4,
 "nbformat_minor": 5
}
